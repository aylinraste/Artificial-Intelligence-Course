{
 "cells": [
  {
   "cell_type": "markdown",
   "metadata": {
    "id": "vrUo6bi-_ZX4"
   },
   "source": [
    "<img src='http://www-scf.usc.edu/~ghasemig/images/sharif.png' alt=\"SUT logo\" width=300 height=300 align=left class=\"saturate\" >\n",
    "\n",
    "<br>\n",
    "<font>\n",
    "<div dir=ltr align=center>\n",
    "<font color=0F5298 size=7>\n",
    "    Artificial Intelligence <br>\n",
    "<font color=2565AE size=5>\n",
    "    Computer Engineering Department <br>\n",
    "    Spring 2023<br>\n",
    "<font color=3C99D size=5>\n",
    "    Practical Assignment 2 - CSP <br>\n",
    "<font color=696880 size=4>\n",
    "    Yalda Shabanzadeh, Ali Salesi\n",
    "\n",
    "____"
   ]
  },
  {
   "cell_type": "markdown",
   "metadata": {
    "id": "mu79vDLI_k7L"
   },
   "source": [
    "# Personal Data"
   ]
  },
  {
   "cell_type": "code",
   "execution_count": 1,
   "metadata": {
    "id": "DSNViWnH_XIG"
   },
   "outputs": [],
   "source": [
    "# Set your student number\n",
    "student_number = '400104964'\n",
    "name = 'Aylin'\n",
    "last_name = 'Rasteh'"
   ]
  },
  {
   "cell_type": "markdown",
   "metadata": {
    "id": "aDsTP-H5_pgG"
   },
   "source": [
    "# Rules\n",
    "- Make sure that all of your cells can be run perfectly. "
   ]
  },
  {
   "cell_type": "markdown",
   "metadata": {
    "id": "gvccZ5rb_pcZ"
   },
   "source": [
    "# Q1: Cryptarithmetic Puzzle (100 Points)"
   ]
  },
  {
   "cell_type": "markdown",
   "metadata": {
    "id": "A41VTSjN_9Zo"
   },
   "source": [
    "<font size=4>\n",
    "Author: Yalda Shabanzadeh, Ali Salesi\n",
    "<br/>\n",
    "<font color=red>\n",
    "Please run all the cells.\n",
    "</font>\n",
    "</font>\n",
    "<br/>\n",
    "</div>"
   ]
  },
  {
   "cell_type": "markdown",
   "metadata": {
    "id": "zpYUslP2AMs3"
   },
   "source": [
    "## Problem Definition\n",
    "\n",
    "The Cryptarithmetic Puzzle is a puzzle where the digits of some numbers are replaced with letters to make a mathematical equation. Each letter represents a unique digit from 0 to 9 (in case of base 10). The puzzle has the following constraints:\n",
    "\n",
    "- Each letter can be replaced by a digit from 0 to 9 (in case of base 10), but no digit can be used twice.\n",
    "- Each letter must be replaced by the same digit throughout the puzzle.\n",
    "- The leftmost digit of each number cannot be zero.\n",
    "\n",
    "### Example\n",
    "Here's an example puzzle:\n",
    "\n",
    "```\n",
    "  two\n",
    "+ two\n",
    "------\n",
    " four\n",
    "```\n",
    "\n",
    "In this puzzle, we need to replace each letter with a digit from 0 to 9 (in case of base 10) to make the equation true."
   ]
  },
  {
   "cell_type": "markdown",
   "metadata": {
    "id": "SjwFN8MOCrjg"
   },
   "source": [
    "## Note\n",
    "- You can use any arbitrary CSP algorithm to solve this question.\n",
    "- Allowed algorithms:\n",
    "BackTracking, AC3, AC3-LCV, AC3-MRV, AC3-LCV-MRV"
   ]
  },
  {
   "cell_type": "markdown",
   "metadata": {
    "id": "ALmhQacCGYDb"
   },
   "source": [
    "> Explain how you consider this problem as a CSP (5 points)\n",
    "\n",
    "\n",
    "<font color='cyan'>\n",
    "In a cryptarithmetic problem each letter stands for a distinct digit. The Goal is to find a substitution of digits for letters such that the resulting sum is arithmetically correct, with the added restriction that no leading zeroes are allowed.\n",
    "</font>\n",
    "<br>\n",
    "<font color='cyan'>\n",
    "Variables: All given alphabets\n",
    "</font>\n",
    "<br>\n",
    "<font color='cyan'>\n",
    "Domain: Integers from 0 to N-1\n",
    "</font>\n",
    "<br>\n",
    "<font color='cyan'>\n",
    "Constraints: Alldiff constraint and column addition constraints and nonzero constraint\n",
    "</font>"
   ]
  },
  {
   "cell_type": "markdown",
   "metadata": {},
   "source": [
    "## Input\n",
    "  - The first line is $N$ ,base of the sum operation. $2 \\le N \\le 36$. implementing CSP for $N$ other than 10 is optional and test cases with $N$ more than 10 has bonus score since it has a bigger search dimension so AC3, MRV and LCV is suggested.\n",
    "  - In the following lines until the last, operands for the sum operation is given.\n",
    "  - In the last line, $result$, the sum of strings is given.\n",
    "  - **Note**: all the operands and the result are in lowercase.\n",
    " \n",
    "$$1 \\le N \\le 50$$\n",
    "\n",
    "### Sample Input\n",
    "This sample describes the previous example.\n",
    "```\n",
    "10\n",
    "two\n",
    "two\n",
    "four\n",
    "```"
   ]
  },
  {
   "cell_type": "markdown",
   "metadata": {},
   "source": [
    "## Output\n",
    "for each given charachter as input, print it's corresponding number:\n",
    "  - **Note**: order is not important. there are multiple solutions for this problem. if all the constraints are satisfied, you can return any solution.\n",
    "\n",
    "### Sample Output\n",
    "The solution to the example above is:\n",
    "```\n",
    "f 1\n",
    "o 4\n",
    "r 8\n",
    "t 7\n",
    "u 6\n",
    "w 3\n",
    "```"
   ]
  },
  {
   "cell_type": "markdown",
   "metadata": {
    "id": "SSHhI4xLVvMu"
   },
   "source": [
    "## Your code\n",
    "**Note:** It's OK to change the signature for the given functions and the given structure is just a suggestion to help you with the implementation. If you tried to use another structure, the total score of that part won't be changed."
   ]
  },
  {
   "cell_type": "markdown",
   "metadata": {
    "id": "WQtGcfUxP1UJ"
   },
   "source": [
    "### Define Constraint (20 points)\n",
    "\n",
    "In this part, write the satisfaction part of the constraint of this problem.\n",
    "You can add any argument you want to `__init__` function.\n",
    "\n",
    "\n",
    "- Check if all letters have a different value. (Unique Constraint)\n",
    "- Check if the first letter of each word is not 0. (Not Zero Constraint)\n",
    "- Check if the sum of the operands with assigned values is equal to the result. (Sum Constraint)\n",
    "    - **Note**: if there are unassigned values for variables, you can ignore them and return true. for large inputs, you can use AC3 or MRV, LCV to reduce the search space with partial assignment."
   ]
  },
  {
   "cell_type": "code",
   "execution_count": 2,
   "metadata": {
    "id": "KF0ZneijGU0F"
   },
   "outputs": [],
   "source": [
    "import numpy as np\n",
    "\n",
    "\n",
    "class Constraint:\n",
    "    \"\"\"\n",
    "    Base class for all constraints.\n",
    "    \"\"\"\n",
    "\n",
    "    def __init__(self, variable: str) -> None:\n",
    "        \"\"\"\n",
    "        Initializes the constraint.\n",
    "\n",
    "        Args:\n",
    "            variable: name of the variable\n",
    "        \"\"\"\n",
    "        self.variable = variable\n",
    "\n",
    "    def satisfied(self, assignment: dict[str, int]) -> bool:\n",
    "        \"\"\"\n",
    "        Checks if the constraint is satisfied.\n",
    "\n",
    "        Args:\n",
    "            assignment: dictionary of the assignment of the variables to the values\n",
    "\n",
    "        Returns:\n",
    "            False if the constraint is not satisfied, True otherwise (including if the variable is not assigned)\n",
    "        \"\"\"\n",
    "        return True\n",
    "\n",
    "\n",
    "class NotZeroConstraint(Constraint):\n",
    "    \"\"\"\"\n",
    "    Constraint that checks if the variable is not zero.\n",
    "    \"\"\"\n",
    "\n",
    "    def satisfied(self, assignment: dict[str, int]) -> bool:\n",
    "        if self.variable not in assignment:\n",
    "            return True\n",
    "        return assignment[self.variable] != 0\n",
    "\n",
    "\n",
    "class UniqueConstraint(Constraint):\n",
    "    \"\"\"\n",
    "    Constraint that checks if all the variables has unique values.\n",
    "    \"\"\"\n",
    "\n",
    "    def __init__(self) -> None:\n",
    "        pass\n",
    "\n",
    "    def satisfied(self, assignment: dict[str, int]) -> bool:\n",
    "        return len(assignment.keys()) == len(set(assignment.values()))\n",
    "\n",
    "\n",
    "class SumConstraint(Constraint):\n",
    "    \"\"\"\n",
    "    Constraint that checks if the sum of the operands is equal to the result.\n",
    "    \"\"\"\n",
    "\n",
    "    def __init__(self, operands: list[str], result: str, base: int = 10, allow_carry: bool = False) -> None:\n",
    "        \"\"\"\n",
    "        initializes the constraint.\n",
    "\n",
    "        Args:\n",
    "            operands: list of the operands\n",
    "            result: result of the sum\n",
    "            base: base of the numbers\n",
    "            allow_carry: if true, the variables in the result is checked from right to left so sum of the operands can have a carry,\n",
    "                         it is useful for partial sums of columns in AC3 or backtracking. implementation of this part is not required.\n",
    "        \"\"\"\n",
    "        self.operands = operands\n",
    "        self.result = result\n",
    "        self.base = base\n",
    "        self.allow_carry = allow_carry\n",
    "        \n",
    "\n",
    "    def satisfied(self, assignment: dict[str, int]) -> bool:\n",
    "        #TODO: implement this method\n",
    "        continuee = True\n",
    "        base = self.base\n",
    "        operands = self.operands\n",
    "        result = self.result\n",
    "        c = 0\n",
    "        i = 1\n",
    "        while continuee:\n",
    "            continuee = False\n",
    "            summ = 0\n",
    "            for operand in operands:\n",
    "                lenn = len(operand)\n",
    "                if lenn >= i:\n",
    "                    continuee = True\n",
    "                    if operand[lenn - i] not in assignment:\n",
    "                        return True\n",
    "                    summ += assignment[operand[lenn - i]]\n",
    "            summ += c\n",
    "            s = summ % base\n",
    "            c = summ // base\n",
    "#             print(1)\n",
    "            if len(result) >= i:\n",
    "                if result[len(result) - i] in assignment:\n",
    "#                     print(\"sum:\", summ, \" i:\", i, \" s:\", s, \" c:\", c, \" ass:\", assignment[result[len(result) - i]])\n",
    "                    if assignment[result[len(result) - i]] != s:\n",
    "                        return False\n",
    "            if not continuee:\n",
    "                if len(result) - i == 0 and c != 0:\n",
    "                    return False\n",
    "                while len(result) - i > 0:\n",
    "                    i += 1\n",
    "                    s = c % base\n",
    "                    c = c // base\n",
    "                    if result[len(result) - i] in assignment:\n",
    "                        if assignment[result[len(result) - i]] != s:\n",
    "                            return False\n",
    "                    if len(result) - i == 0 and c != 0:\n",
    "                        return False    \n",
    "            i += 1 \n",
    "#         i = 1\n",
    "#         summ = 0\n",
    "#         for operand in operands:\n",
    "#             lenn = len(operand)\n",
    "#             if lenn >= i:\n",
    "#                 continuee = True\n",
    "#                 if operand[lenn - i] not in assignment:\n",
    "#                     return True\n",
    "#                 summ += assignment[operand[lenn - i]]\n",
    "#             print(\"sum: \", summ, operand)\n",
    "\n",
    "#         sumVariables = 0\n",
    "#         for operand in self.operands:\n",
    "#             n = 0\n",
    "#             for o in operand:\n",
    "#                 n *= self.base\n",
    "#                 if o not in assignment:\n",
    "#                     return True\n",
    "#                 n += assignment[o]\n",
    "#             numbers.append(n)\n",
    "#             summ += n\n",
    "#         res = 0\n",
    "#         for o in self.result:\n",
    "#             res *= self.base\n",
    "#             res += assignment[o]\n",
    "                \n",
    "        return True"
   ]
  },
  {
   "cell_type": "markdown",
   "metadata": {
    "id": "wH4wlG0NS62E"
   },
   "source": [
    "### Define a CSP class (50 points)\n",
    "\n",
    "You can add functions you'll need to this class."
   ]
  },
  {
   "cell_type": "code",
   "execution_count": 3,
   "metadata": {
    "id": "8V_OGeSoTMi0"
   },
   "outputs": [],
   "source": [
    "class CSP:\n",
    "    \"\"\"\n",
    "    CSP class that contains the variables, constraints and base of the problem.\n",
    "    \"\"\"\n",
    "\n",
    "    def __init__(self, variables: list[str], constraints: list[Constraint], base: int = 10) -> None:\n",
    "        self.variables = variables\n",
    "        self.constraints = constraints\n",
    "        self.base = base\n",
    "\n",
    "    def consistent(self, assignment: dict[str, int]) -> bool:\n",
    "        \"\"\"\n",
    "        Checks if the assignment is consistent with the constraints.\n",
    "\n",
    "        Args:\n",
    "            assignment: dictionary of the assignment of the variables to the values.\n",
    "\n",
    "        Returns:\n",
    "            False if the assignment is not consistent, True otherwise\n",
    "        \"\"\"\n",
    "        for constraint in self.constraints:\n",
    "            if not constraint.satisfied(assignment):\n",
    "                return False\n",
    "        return True\n",
    "\n",
    "    def backtracking_search(self, assignment, domains = None, i = 0):\n",
    "        \"\"\"\n",
    "        Backtracking search algorithm.\n",
    "\n",
    "        Args:\n",
    "            assignment: dictionary of the assignment of the variables to the values. assignment is modified in place.\n",
    "\n",
    "        Returns:\n",
    "            True if a solution is found, False otherwise\n",
    "        \"\"\"\n",
    "        #TODO: implement this method\n",
    "        variables = self.variables\n",
    "        if domains == None:\n",
    "            domains = {}\n",
    "            for v in variables:\n",
    "                domains[v] = list(range(0, self.base))\n",
    "                \n",
    "#         if not self.consistent(assignment):\n",
    "#         print(\"assignment\", assignment)\n",
    "        if not self.consistent(assignment):\n",
    "            return False\n",
    "        if (i >= len(variables)):\n",
    "#             print(\"yes\", assignment)\n",
    "            return True\n",
    "        variable = variables[i]\n",
    "        ok = False\n",
    "        for d in domains[variable]:\n",
    "#             print(d, variable)\n",
    "            assignment[variable] = d\n",
    "            domainsCopy = domains.copy()\n",
    "            if self.backtracking_search(assignment, domainsCopy, i+1):\n",
    "                ok = True\n",
    "                break\n",
    "        if not ok:\n",
    "            del(assignment[variable])\n",
    "        return ok\n",
    "    \n",
    "    \n",
    "    def forwardCheck(self, assignment, domains):\n",
    "        variables = self.variables\n",
    "        constraints = self.constraints\n",
    "        assignmentCopy = assignment.copy()   \n",
    "#         domainsCopy = domains.copy()\n",
    "        for v in variables:\n",
    "            if v not in assignment:\n",
    "                domainCopy = domains[v].copy()\n",
    "                for d in domains[v]:\n",
    "                    assignmentCopy[v] = d\n",
    "#                     print(d, v, domains[v])\n",
    "                    if not self.consistent(assignmentCopy):\n",
    "                        domainCopy.remove(d)\n",
    "#                         print(\"deleted: \", d, v, assignmentCopy)\n",
    "                if len(domainCopy) == 0:\n",
    "                    return False\n",
    "                del(assignmentCopy[v])\n",
    "                domains[v] = domainCopy\n",
    "#         print(\"domains: \", domains)\n",
    "        return True\n",
    "                            "
   ]
  },
  {
   "cell_type": "markdown",
   "metadata": {
    "id": "aZfWJAEdX48l"
   },
   "source": [
    "### Build CSP and solve it! (20 points)\n",
    "\n",
    "complete these functions for testing."
   ]
  },
  {
   "cell_type": "code",
   "execution_count": 4,
   "metadata": {
    "id": "E9aF198i_614"
   },
   "outputs": [],
   "source": [
    "import copy\n",
    "def get_problem(operands: list[str], result: str, base: int = 10) -> CSP:\n",
    "    \"\"\"\n",
    "    Creates a CSP problem from the operands and the result. The variables are the unique characters in the operands and the result.\n",
    "    The constraints should be defined usinng NotZeroConstraint for leftmost digits, a UniqueConstraint for all variables and a SumConstraint for the problem\n",
    "    multiple partial SumConstraint can be used for bigger search spaces and base > 10.\n",
    "\n",
    "    Args:\n",
    "        operands: list of the operands\n",
    "        result: result of the sum\n",
    "        base: base of the numbers\n",
    "\n",
    "    Returns:\n",
    "        CSP problem\n",
    "    \"\"\"\n",
    "      \n",
    "    #TODO: implement this method\n",
    "    variables = []\n",
    "#     for operand in operands:\n",
    "#         for o in operand:\n",
    "#             if o not in variables:\n",
    "#                 variables.append(o)\n",
    "#     for o in result:\n",
    "#         if o not in variables:\n",
    "#             variables.append(o)  \n",
    "    continuee = True\n",
    "    operandsCopy = copy.deepcopy(operands)\n",
    "    operandsCopy.append(result)\n",
    "    i = 1\n",
    "    while continuee:\n",
    "        continuee = False\n",
    "        for operand in operandsCopy:\n",
    "            lenn = len(operand)\n",
    "            if lenn >= i:\n",
    "                continuee = True\n",
    "                if operand[lenn - i] not in variables:\n",
    "                    variables.append(operand[lenn - i])  \n",
    "        i += 1 \n",
    "            \n",
    "#     variables = sorted(variables)\n",
    "    constraints = []\n",
    "    for operand in operands:\n",
    "        constraints.append(NotZeroConstraint(operand[0]))\n",
    "    constraints.append(NotZeroConstraint(result[0]))\n",
    "    constraints.append(UniqueConstraint())\n",
    "    constraints.append(SumConstraint(operands, result, base, False))\n",
    "    return CSP(variables, constraints, base)\n"
   ]
  },
  {
   "cell_type": "code",
   "execution_count": 5,
   "metadata": {},
   "outputs": [
    {
     "name": "stdout",
     "output_type": "stream",
     "text": [
      "{'e': 1, 'g': 7, 'i': 5, 'n': 0, 'o': 8, 'p': 9, 'r': 6, 't': 4, 'y': 2, 'z': 3}\n"
     ]
    }
   ],
   "source": [
    "def backtracking_search(csp: CSP) -> dict[str, int]:\n",
    "    \"\"\"\n",
    "    Backtracking search algorithm.\n",
    "\n",
    "    Args:\n",
    "        csp: CSP problem\n",
    "    \n",
    "    Returns:\n",
    "        dictionary of the assignment of the variables to the values if a solution is found, None otherwise\n",
    "    \"\"\"\n",
    "    sol = {}\n",
    "    ok = csp.backtracking_search(sol)\n",
    "    if ok:\n",
    "        myKeys = list(sol.keys())\n",
    "        myKeys.sort()\n",
    "#         print(myKeys)\n",
    "        sorted_dict = {i: sol[i] for i in myKeys}\n",
    "        print(sorted_dict)\n",
    "        return sorted_dict\n",
    "    return None\n",
    "\n",
    "base = 10\n",
    "operands = [\"point\", \"zero\"]\n",
    "result = \"energy\"\n",
    "csp = get_problem(operands, result, base)\n",
    "sol = backtracking_search(csp)"
   ]
  },
  {
   "cell_type": "markdown",
   "metadata": {
    "id": "69hRH8xlYvK9"
   },
   "source": [
    "## Test\n",
    "\n",
    "**Do not change the following cell.**\n",
    "\n",
    "**Note**: 5 tests will be added after deadline. (5 points)."
   ]
  },
  {
   "cell_type": "code",
   "execution_count": 6,
   "metadata": {
    "colab": {
     "base_uri": "https://localhost:8080/",
     "height": 236
    },
    "id": "0tOYbhBJZXeV",
    "outputId": "61338018-08fc-4084-d809-8c8872fc7fd4",
    "scrolled": true
   },
   "outputs": [
    {
     "name": "stdout",
     "output_type": "stream",
     "text": [
      "{'a': 2, 'f': 21, 'i': 29, 'l': 3, 'o': 1, 'u': 25, 'w': 4, 'y': 0}\n",
      "test q2_in8.txt passed. time elapsed=0.01424s\n",
      "solution: \n",
      "A 2\n",
      "F 21\n",
      "I 29\n",
      "L 3\n",
      "O 1\n",
      "U 25\n",
      "W 4\n",
      "Y 0\n",
      "{'a': 2, 'f': 8, 'l': 4, 'w': 5, 'y': 0}\n",
      "test q2_in4.txt passed. time elapsed=0.00048s\n",
      "solution: \n",
      "A 2\n",
      "F 8\n",
      "L 4\n",
      "W 5\n",
      "Y 0\n",
      "{'g': 8, 'o': 1, 't': 2, 'u': 0}\n",
      "test q2_in5.txt passed. time elapsed=0.00007s\n",
      "solution: \n",
      "G 8\n",
      "O 1\n",
      "T 2\n",
      "U 0\n",
      "{'e': 1, 'g': 7, 'i': 5, 'n': 0, 'o': 8, 'p': 9, 'r': 6, 't': 4, 'y': 2, 'z': 3}\n",
      "test q2_in7.txt passed. time elapsed=0.11655s\n",
      "solution: \n",
      "E 1\n",
      "G 7\n",
      "I 5\n",
      "N 0\n",
      "O 8\n",
      "P 9\n",
      "R 6\n",
      "T 4\n",
      "Y 2\n",
      "Z 3\n",
      "{'d': 7, 'e': 5, 'm': 1, 'n': 6, 'o': 0, 'r': 8, 's': 9, 'y': 2}\n",
      "test q2_in6.txt passed. time elapsed=0.03211s\n",
      "solution: \n",
      "D 7\n",
      "E 5\n",
      "M 1\n",
      "N 6\n",
      "O 0\n",
      "R 8\n",
      "S 9\n",
      "Y 2\n",
      "{'a': 1, 'b': 8, 'c': 9, 'd': 2, 'e': 0}\n",
      "test q2_in2.txt passed. time elapsed=0.00164s\n",
      "solution: \n",
      "A 1\n",
      "B 8\n",
      "C 9\n",
      "D 2\n",
      "E 0\n",
      "{'a': 1, 'b': 9, 'c': 8}\n",
      "test q2_in3.txt passed. time elapsed=0.00202s\n",
      "solution: \n",
      "A 1\n",
      "B 9\n",
      "C 8\n",
      "{'x': 1, 'y': 2, 'z': 8}\n",
      "test q2_in1.txt passed. time elapsed=0.00006s\n",
      "solution: \n",
      "X 1\n",
      "Y 2\n",
      "Z 8\n",
      "Score = 100.0%\n"
     ]
    }
   ],
   "source": [
    "import helper.test_q2 as q2\n",
    "import time\n",
    "\n",
    "TIME_LIMIT = 3\n",
    "\n",
    "tests = q2.get_all_tests(prefix='q2_')\n",
    "tests_passed = 0\n",
    "for test in tests:\n",
    "    base, operands, result = q2.scan_test_input(test)\n",
    "    csp = get_problem(operands, result, base)\n",
    "    start_time = time.time()\n",
    "    sol = backtracking_search(csp)\n",
    "    if sol is None:\n",
    "        print(f'test {test} failed. time elapsed={time.time() - start_time:.5f}s')\n",
    "        continue\n",
    "    total_time = time.time() - start_time\n",
    "    if q2.is_result_valid(sol, operands, result, base) and total_time < TIME_LIMIT:\n",
    "        tests_passed += 1\n",
    "        print(f'test {test} passed. time elapsed={total_time:.5f}s')\n",
    "        print('solution: ')\n",
    "        print('\\n'.join([str(x).upper() + \" \" + str(y)\n",
    "              for x, y in sorted(sol.items())]))\n",
    "    else:\n",
    "        print(f'test {test} failed. time elapsed={total_time:.5f}s')\n",
    "print(f'Score = {tests_passed / len(tests) * 100}%')"
   ]
  },
  {
   "cell_type": "code",
   "execution_count": null,
   "metadata": {},
   "outputs": [],
   "source": []
  }
 ],
 "metadata": {
  "colab": {
   "provenance": []
  },
  "kernelspec": {
   "display_name": "Python 3 (ipykernel)",
   "language": "python",
   "name": "python3"
  },
  "language_info": {
   "codemirror_mode": {
    "name": "ipython",
    "version": 3
   },
   "file_extension": ".py",
   "mimetype": "text/x-python",
   "name": "python",
   "nbconvert_exporter": "python",
   "pygments_lexer": "ipython3",
   "version": "3.10.8"
  }
 },
 "nbformat": 4,
 "nbformat_minor": 1
}
